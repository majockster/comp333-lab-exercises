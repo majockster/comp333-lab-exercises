{
 "cells": [
  {
   "cell_type": "code",
   "execution_count": 3,
   "id": "f546e449",
   "metadata": {},
   "outputs": [],
   "source": [
    "class Employee:\n",
    "\n",
    "    def __init__(self, first, last, pay):\n",
    "        self.first = first\n",
    "        self.last = last\n",
    "        self.email = first + '.' + last + '@email.com'\n",
    "        self.pay = pay\n",
    "\n",
    "    def fullname(self):\n",
    "        return '{} {}'.format(self.first, self.last)"
   ]
  },
  {
   "cell_type": "code",
   "execution_count": 7,
   "id": "bb9de7ed",
   "metadata": {},
   "outputs": [
    {
     "name": "stdout",
     "output_type": "stream",
     "text": [
      "50000\n"
     ]
    }
   ],
   "source": [
    "import csv\n",
    "import functools as ft\n",
    "\n",
    "employees = []\n",
    "with open('dummydata.csv', 'r') as f:\n",
    "    reader = csv.reader(f)\n",
    "    for row in reader:\n",
    "        employees.append(Employee(row[0], row[1], int(row[3])))\n",
    "print((employees[0].pay))\n",
    "pays = []\n",
    "total_pays = []"
   ]
  },
  {
   "cell_type": "code",
   "execution_count": 14,
   "id": "3f964825",
   "metadata": {},
   "outputs": [
    {
     "name": "stdout",
     "output_type": "stream",
     "text": [
      "total pay = 375000\n",
      "average pay = 62500.0\n"
     ]
    }
   ],
   "source": [
    "def test(a):\n",
    "    return a.pay\n",
    "pays = map(test, employees)\n",
    "total_pay = ft.reduce(lambda a, b: a+b, pays)\n",
    "print('total pay = '+str(total_pay))\n",
    "avg_pay = total_pay/len(employees)\n",
    "print('average pay = '+str(avg_pay))"
   ]
  },
  {
   "cell_type": "code",
   "execution_count": null,
   "id": "ce07627e",
   "metadata": {},
   "outputs": [],
   "source": []
  },
  {
   "cell_type": "code",
   "execution_count": null,
   "id": "ec54043f",
   "metadata": {},
   "outputs": [],
   "source": []
  }
 ],
 "metadata": {
  "kernelspec": {
   "display_name": "Python 3 (ipykernel)",
   "language": "python",
   "name": "python3"
  },
  "language_info": {
   "codemirror_mode": {
    "name": "ipython",
    "version": 3
   },
   "file_extension": ".py",
   "mimetype": "text/x-python",
   "name": "python",
   "nbconvert_exporter": "python",
   "pygments_lexer": "ipython3",
   "version": "3.9.5"
  }
 },
 "nbformat": 4,
 "nbformat_minor": 5
}
