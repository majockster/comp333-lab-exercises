{
 "cells": [
  {
   "cell_type": "code",
   "execution_count": 2,
   "id": "8085493e",
   "metadata": {},
   "outputs": [],
   "source": [
    "# Importing urlib\n",
    "import urllib\n",
    "import os\n",
    "\n",
    "# Creating the data folder\n",
    "if not os.path.exists('./data'):\n",
    "\tos.makedirs('./data')\n",
    "\n",
    "# Obtaining the dataset using the url that hosts it\n",
    "kaggle_url = 'https://github.com/sundeepblue/movie_rating_prediction/raw/master/movie_metadata.csv'\n",
    "if not os.path.exists('./data/kaggle_dataset.csv'):     # avoid downloading if the file exists\n",
    "\tresponse = urllib.request.urlretrieve(kaggle_url, './data/kaggle_dataset.csv')"
   ]
  },
  {
   "cell_type": "code",
   "execution_count": 5,
   "id": "5fd860e6",
   "metadata": {},
   "outputs": [],
   "source": [
    "import gzip\n",
    "\n",
    "# Obtaining IMDB's text files\n",
    "imdb_url_prefix = 'ftp://ftp.funet.fi/pub/mirrors/ftp.imdb.com/pub/'\n",
    "imdb_files_list = ['genres.list', 'ratings.list']\n",
    "for name in imdb_files_list:\n",
    "\tif not os.path.exists('./data/' + name):\n",
    "\t\tresponse = urllib.request.urlretrieve(imdb_url_prefix + name, './data/' + name)\n",
    "\t\turllib.urlcleanup()   # urllib fails to download two files from a ftp source. This fixes the bug!\n",
    "\t\twith gzip.open('./data/' + name) as comp_file, open('./data/' + name[:-3], 'w') as reg_file:\n",
    "\t\t\tfile_content = comp_file.read()\n",
    "\t\t\treg_file.write(file_content)"
   ]
  },
  {
   "cell_type": "code",
   "execution_count": 9,
   "id": "1a604605",
   "metadata": {},
   "outputs": [],
   "source": [
    "imdb_url = 'https://anaconda.org/BigGorilla/datasets/1/download/imdb_dataset.csv'\n",
    "if not os.path.exists('./data/imdb_dataset.csv'):     # avoid downloading if the file exists\n",
    "\tresponse = urllib.request.urlretrieve(kaggle_url, './data/imdb_dataset.csv')"
   ]
  },
  {
   "cell_type": "code",
   "execution_count": 11,
   "id": "e39e3228",
   "metadata": {},
   "outputs": [
    {
     "name": "stdout",
     "output_type": "stream",
     "text": [
      "      0000000125  1888533   9.2  The Shawshank Redemption (1994)\n",
      "      0000000125  1289428   9.2  The Godfather (1972)\n",
      "      0000000124  889607   9.0  The Godfather: Part II (1974)\n",
      "      0000000124  1864164   9.0  The Dark Knight (2008)\n",
      "      0000000133  518449   8.9  12 Angry Men (1957)\n",
      "      0000000133  971107   8.9  Schindler's List (1993)\n",
      "      0000000123  1477112   8.9  Pulp Fiction (1994)\n",
      "      0000000124  1349449   8.9  The Lord of the Rings: The Return of the King (2003)\n",
      "      0000000123  559468   8.8  Il buono, il brutto, il cattivo (1966)\n",
      "      0000000133  1513600   8.8  Fight Club (1999)\n",
      "\n"
     ]
    }
   ],
   "source": [
    "with open(\"./data/ratings.list/ratings.list\") as myfile:\n",
    "\thead = [next(myfile) for x in range(38)]\n",
    "print (''.join(head[28:38]))   # skipping the first 28 lines as they are descriptive headers"
   ]
  },
  {
   "cell_type": "code",
   "execution_count": 12,
   "id": "7fc753cb",
   "metadata": {},
   "outputs": [
    {
     "name": "stdout",
     "output_type": "stream",
     "text": [
      "==================\n",
      "\n",
      "\"!Next?\" (1994)\t\t\t\t\t\tDocumentary\n",
      "\"#1 Single\" (2006)\t\t\t\t\tReality-TV\n",
      "\"#15SecondScare\" (2015)\t\t\t\t\tHorror\n",
      "\"#15SecondScare\" (2015)\t\t\t\t\tShort\n",
      "\"#15SecondScare\" (2015)\t\t\t\t\tThriller\n",
      "\"#15SecondScare\" (2015) {Who Wants to Play with the Rabbit? (#1.2)}\tDrama\n",
      "\"#15SecondScare\" (2015) {Who Wants to Play with the Rabbit? (#1.2)}\tHorror\n",
      "\"#15SecondScare\" (2015) {Who Wants to Play with the Rabbit? (#1.2)}\tShort\n",
      "\n"
     ]
    }
   ],
   "source": [
    "with open(\"./data/genres.list/genres.list\") as myfile:\n",
    "\thead = [next(myfile) for x in range(392)]\n",
    "print (''.join(head[382:392]))   # skipping the first 382 lines as they are descriptive header"
   ]
  },
  {
   "cell_type": "code",
   "execution_count": 20,
   "id": "6597f349",
   "metadata": {},
   "outputs": [],
   "source": [
    "import re\n",
    "import pandas as pd\n",
    "\n",
    "with open(\"./data/genres.list/genres.list\") as genres_file:\n",
    "\traw_content = genres_file.readlines()\n",
    "\tgenres_list = []\n",
    "\tcontent = raw_content[384:]\n",
    "\tfor line in content:\n",
    "\t\tm = re.match(r'\"?(.*[^\"])\"? \\(((?:\\d|\\?){4})(?:/\\w*)?\\).*\\s((?:\\w|-)+)', line.strip())\n",
    "\t\tgenres_list.append([m.group(1), m.group(2), m.group(3)])\n",
    "\tgenres_data = pd.DataFrame(genres_list, columns=['movie', 'year', 'genre'])"
   ]
  },
  {
   "cell_type": "code",
   "execution_count": 21,
   "id": "87f71784",
   "metadata": {},
   "outputs": [],
   "source": [
    "with open(\"./data/ratings.list/ratings.list\") as ratings_file:\n",
    "\traw_content = ratings_file.readlines()\n",
    "\tratings_list = []\n",
    "\tcontent = raw_content[28:]\n",
    "\tfor line in content:\n",
    "\t\tm = re.match(r'(?:\\d|\\.|\\*){10}\\s+\\d+\\s+(1?\\d\\.\\d)\\s\"?(.*[^\"])\"? \\(((?:\\d|\\?){4})(?:/\\w*)?\\)', line.strip())\n",
    "\t\tif m is None: continue\n",
    "\t\tratings_list.append([m.group(2), m.group(3), m.group(1)])\n",
    "\tratings_data = pd.DataFrame(ratings_list, columns=['movie', 'year', 'rating'])"
   ]
  },
  {
   "cell_type": "code",
   "execution_count": 22,
   "id": "a6a501d3",
   "metadata": {},
   "outputs": [],
   "source": [
    "import pandas as pd\n",
    "\n",
    "# Loading the Kaggle dataset from the .csv file (kaggle_dataset.csv)\n",
    "kaggle_data = pd.read_csv('./data/kaggle_dataset.csv')"
   ]
  },
  {
   "cell_type": "code",
   "execution_count": 23,
   "id": "af1de7fe",
   "metadata": {},
   "outputs": [
    {
     "name": "stdout",
     "output_type": "stream",
     "text": [
      "Number of movies in kaggle_data: 5043\n",
      "Number of movies in genres_data: 2658941\n",
      "Number of movies in ratings_data: 789415\n"
     ]
    }
   ],
   "source": [
    "print ('Number of movies in kaggle_data: {}'.format(kaggle_data.shape[0]))\n",
    "print ('Number of movies in genres_data: {}'.format(genres_data.shape[0]))\n",
    "print ('Number of movies in ratings_data: {}'.format(ratings_data.shape[0]))"
   ]
  },
  {
   "cell_type": "code",
   "execution_count": 24,
   "id": "d424dbfb",
   "metadata": {},
   "outputs": [
    {
     "name": "stdout",
     "output_type": "stream",
     "text": [
      "Number of duplicates in kaggle_data: 241\n",
      "Number of duplicates in genres_data: 2031322\n",
      "Number of duplicates in ratings_data: 342815\n"
     ]
    }
   ],
   "source": [
    "print ('Number of duplicates in kaggle_data: {}'.format(\n",
    "\tsum(kaggle_data.duplicated(subset=['movie_title', 'title_year'], keep=False))))\n",
    "print ('Number of duplicates in genres_data: {}'.format(\n",
    "\tsum(genres_data.duplicated(subset=['movie', 'year'], keep=False))))\n",
    "print ('Number of duplicates in ratings_data: {}'.format(\n",
    "\tsum(ratings_data.duplicated(subset=['movie', 'year'], keep=False))))"
   ]
  },
  {
   "cell_type": "code",
   "execution_count": 25,
   "id": "89ae0b86",
   "metadata": {},
   "outputs": [],
   "source": [
    "kaggle_data = kaggle_data.drop_duplicates(subset=['movie_title', 'title_year'], keep='first').copy()\n",
    "genres_data = genres_data.drop_duplicates(subset=['movie', 'year'], keep='first').copy()\n",
    "ratings_data = ratings_data.drop_duplicates(subset=['movie', 'year'], keep='first').copy()"
   ]
  },
  {
   "cell_type": "code",
   "execution_count": 27,
   "id": "ddbcbf80",
   "metadata": {},
   "outputs": [],
   "source": [
    "def preprocess_title(title):\n",
    "\ttitle = title.lower()\n",
    "\ttitle = title.replace(',', ' ')\n",
    "\ttitle = title.replace(\"'\", '')    \n",
    "\ttitle = title.replace('&', 'and')\n",
    "\ttitle = title.replace('?', '')\n",
    "# \ttitle = title.decode('utf-8', 'ignore')\n",
    "\treturn title.strip()\n",
    "\n",
    "kaggle_data['norm_movie_title'] = kaggle_data['movie_title'].map(preprocess_title)\n",
    "genres_data['norm_movie'] = genres_data['movie'].map(preprocess_title)\n",
    "ratings_data['norm_movie'] = ratings_data['movie'].map(preprocess_title)"
   ]
  },
  {
   "cell_type": "code",
   "execution_count": 28,
   "id": "f8a3756f",
   "metadata": {},
   "outputs": [
    {
     "data": {
      "text/html": [
       "<div>\n",
       "<style scoped>\n",
       "    .dataframe tbody tr th:only-of-type {\n",
       "        vertical-align: middle;\n",
       "    }\n",
       "\n",
       "    .dataframe tbody tr th {\n",
       "        vertical-align: top;\n",
       "    }\n",
       "\n",
       "    .dataframe thead th {\n",
       "        text-align: right;\n",
       "    }\n",
       "</style>\n",
       "<table border=\"1\" class=\"dataframe\">\n",
       "  <thead>\n",
       "    <tr style=\"text-align: right;\">\n",
       "      <th></th>\n",
       "      <th>color</th>\n",
       "      <th>director_name</th>\n",
       "      <th>num_critic_for_reviews</th>\n",
       "      <th>duration</th>\n",
       "      <th>director_facebook_likes</th>\n",
       "      <th>actor_3_facebook_likes</th>\n",
       "      <th>actor_2_name</th>\n",
       "      <th>actor_1_facebook_likes</th>\n",
       "      <th>gross</th>\n",
       "      <th>genres</th>\n",
       "      <th>...</th>\n",
       "      <th>country</th>\n",
       "      <th>content_rating</th>\n",
       "      <th>budget</th>\n",
       "      <th>title_year</th>\n",
       "      <th>actor_2_facebook_likes</th>\n",
       "      <th>imdb_score</th>\n",
       "      <th>aspect_ratio</th>\n",
       "      <th>movie_facebook_likes</th>\n",
       "      <th>norm_movie_title</th>\n",
       "      <th>norm_title_year</th>\n",
       "    </tr>\n",
       "  </thead>\n",
       "  <tbody>\n",
       "    <tr>\n",
       "      <th>0</th>\n",
       "      <td>Color</td>\n",
       "      <td>James Cameron</td>\n",
       "      <td>723.0</td>\n",
       "      <td>178.0</td>\n",
       "      <td>0.0</td>\n",
       "      <td>855.0</td>\n",
       "      <td>Joel David Moore</td>\n",
       "      <td>1000.0</td>\n",
       "      <td>760505847.0</td>\n",
       "      <td>Action|Adventure|Fantasy|Sci-Fi</td>\n",
       "      <td>...</td>\n",
       "      <td>USA</td>\n",
       "      <td>PG-13</td>\n",
       "      <td>237000000.0</td>\n",
       "      <td>2009.0</td>\n",
       "      <td>936.0</td>\n",
       "      <td>7.9</td>\n",
       "      <td>1.78</td>\n",
       "      <td>33000</td>\n",
       "      <td>avatar</td>\n",
       "      <td>2009</td>\n",
       "    </tr>\n",
       "    <tr>\n",
       "      <th>1</th>\n",
       "      <td>Color</td>\n",
       "      <td>Gore Verbinski</td>\n",
       "      <td>302.0</td>\n",
       "      <td>169.0</td>\n",
       "      <td>563.0</td>\n",
       "      <td>1000.0</td>\n",
       "      <td>Orlando Bloom</td>\n",
       "      <td>40000.0</td>\n",
       "      <td>309404152.0</td>\n",
       "      <td>Action|Adventure|Fantasy</td>\n",
       "      <td>...</td>\n",
       "      <td>USA</td>\n",
       "      <td>PG-13</td>\n",
       "      <td>300000000.0</td>\n",
       "      <td>2007.0</td>\n",
       "      <td>5000.0</td>\n",
       "      <td>7.1</td>\n",
       "      <td>2.35</td>\n",
       "      <td>0</td>\n",
       "      <td>pirates of the caribbean: at worlds end</td>\n",
       "      <td>2007</td>\n",
       "    </tr>\n",
       "    <tr>\n",
       "      <th>2</th>\n",
       "      <td>Color</td>\n",
       "      <td>Sam Mendes</td>\n",
       "      <td>602.0</td>\n",
       "      <td>148.0</td>\n",
       "      <td>0.0</td>\n",
       "      <td>161.0</td>\n",
       "      <td>Rory Kinnear</td>\n",
       "      <td>11000.0</td>\n",
       "      <td>200074175.0</td>\n",
       "      <td>Action|Adventure|Thriller</td>\n",
       "      <td>...</td>\n",
       "      <td>UK</td>\n",
       "      <td>PG-13</td>\n",
       "      <td>245000000.0</td>\n",
       "      <td>2015.0</td>\n",
       "      <td>393.0</td>\n",
       "      <td>6.8</td>\n",
       "      <td>2.35</td>\n",
       "      <td>85000</td>\n",
       "      <td>spectre</td>\n",
       "      <td>2015</td>\n",
       "    </tr>\n",
       "    <tr>\n",
       "      <th>3</th>\n",
       "      <td>Color</td>\n",
       "      <td>Christopher Nolan</td>\n",
       "      <td>813.0</td>\n",
       "      <td>164.0</td>\n",
       "      <td>22000.0</td>\n",
       "      <td>23000.0</td>\n",
       "      <td>Christian Bale</td>\n",
       "      <td>27000.0</td>\n",
       "      <td>448130642.0</td>\n",
       "      <td>Action|Thriller</td>\n",
       "      <td>...</td>\n",
       "      <td>USA</td>\n",
       "      <td>PG-13</td>\n",
       "      <td>250000000.0</td>\n",
       "      <td>2012.0</td>\n",
       "      <td>23000.0</td>\n",
       "      <td>8.5</td>\n",
       "      <td>2.35</td>\n",
       "      <td>164000</td>\n",
       "      <td>the dark knight rises</td>\n",
       "      <td>2012</td>\n",
       "    </tr>\n",
       "    <tr>\n",
       "      <th>4</th>\n",
       "      <td>NaN</td>\n",
       "      <td>Doug Walker</td>\n",
       "      <td>NaN</td>\n",
       "      <td>NaN</td>\n",
       "      <td>131.0</td>\n",
       "      <td>NaN</td>\n",
       "      <td>Rob Walker</td>\n",
       "      <td>131.0</td>\n",
       "      <td>NaN</td>\n",
       "      <td>Documentary</td>\n",
       "      <td>...</td>\n",
       "      <td>NaN</td>\n",
       "      <td>NaN</td>\n",
       "      <td>NaN</td>\n",
       "      <td>NaN</td>\n",
       "      <td>12.0</td>\n",
       "      <td>7.1</td>\n",
       "      <td>NaN</td>\n",
       "      <td>0</td>\n",
       "      <td>star wars: episode vii - the force awakens</td>\n",
       "      <td>?</td>\n",
       "    </tr>\n",
       "  </tbody>\n",
       "</table>\n",
       "<p>5 rows × 30 columns</p>\n",
       "</div>"
      ],
      "text/plain": [
       "   color      director_name  num_critic_for_reviews  duration  \\\n",
       "0  Color      James Cameron                   723.0     178.0   \n",
       "1  Color     Gore Verbinski                   302.0     169.0   \n",
       "2  Color         Sam Mendes                   602.0     148.0   \n",
       "3  Color  Christopher Nolan                   813.0     164.0   \n",
       "4    NaN        Doug Walker                     NaN       NaN   \n",
       "\n",
       "   director_facebook_likes  actor_3_facebook_likes      actor_2_name  \\\n",
       "0                      0.0                   855.0  Joel David Moore   \n",
       "1                    563.0                  1000.0     Orlando Bloom   \n",
       "2                      0.0                   161.0      Rory Kinnear   \n",
       "3                  22000.0                 23000.0    Christian Bale   \n",
       "4                    131.0                     NaN        Rob Walker   \n",
       "\n",
       "   actor_1_facebook_likes        gross                           genres  ...  \\\n",
       "0                  1000.0  760505847.0  Action|Adventure|Fantasy|Sci-Fi  ...   \n",
       "1                 40000.0  309404152.0         Action|Adventure|Fantasy  ...   \n",
       "2                 11000.0  200074175.0        Action|Adventure|Thriller  ...   \n",
       "3                 27000.0  448130642.0                  Action|Thriller  ...   \n",
       "4                   131.0          NaN                      Documentary  ...   \n",
       "\n",
       "  country content_rating       budget  title_year actor_2_facebook_likes  \\\n",
       "0     USA          PG-13  237000000.0      2009.0                  936.0   \n",
       "1     USA          PG-13  300000000.0      2007.0                 5000.0   \n",
       "2      UK          PG-13  245000000.0      2015.0                  393.0   \n",
       "3     USA          PG-13  250000000.0      2012.0                23000.0   \n",
       "4     NaN            NaN          NaN         NaN                   12.0   \n",
       "\n",
       "   imdb_score aspect_ratio movie_facebook_likes  \\\n",
       "0         7.9         1.78                33000   \n",
       "1         7.1         2.35                    0   \n",
       "2         6.8         2.35                85000   \n",
       "3         8.5         2.35               164000   \n",
       "4         7.1          NaN                    0   \n",
       "\n",
       "                             norm_movie_title norm_title_year  \n",
       "0                                      avatar            2009  \n",
       "1     pirates of the caribbean: at worlds end            2007  \n",
       "2                                     spectre            2015  \n",
       "3                       the dark knight rises            2012  \n",
       "4  star wars: episode vii - the force awakens               ?  \n",
       "\n",
       "[5 rows x 30 columns]"
      ]
     },
     "execution_count": 28,
     "metadata": {},
     "output_type": "execute_result"
    }
   ],
   "source": [
    "\n",
    "def preprocess_year(year):\n",
    "\tif pd.isnull(year):\n",
    "\t\treturn '?'\n",
    "\telse:\n",
    "\t\treturn str(int(year))\n",
    "\n",
    "kaggle_data['norm_title_year'] = kaggle_data['title_year'].map(preprocess_year)\n",
    "kaggle_data.head()"
   ]
  },
  {
   "cell_type": "code",
   "execution_count": 29,
   "id": "b66e79b6",
   "metadata": {},
   "outputs": [
    {
     "data": {
      "text/html": [
       "<div>\n",
       "<style scoped>\n",
       "    .dataframe tbody tr th:only-of-type {\n",
       "        vertical-align: middle;\n",
       "    }\n",
       "\n",
       "    .dataframe tbody tr th {\n",
       "        vertical-align: top;\n",
       "    }\n",
       "\n",
       "    .dataframe thead th {\n",
       "        text-align: right;\n",
       "    }\n",
       "</style>\n",
       "<table border=\"1\" class=\"dataframe\">\n",
       "  <thead>\n",
       "    <tr style=\"text-align: right;\">\n",
       "      <th></th>\n",
       "      <th>movie_x</th>\n",
       "      <th>year</th>\n",
       "      <th>rating</th>\n",
       "      <th>norm_movie</th>\n",
       "      <th>movie_y</th>\n",
       "      <th>genre</th>\n",
       "    </tr>\n",
       "  </thead>\n",
       "  <tbody>\n",
       "    <tr>\n",
       "      <th>0</th>\n",
       "      <td>The Shawshank Redemption</td>\n",
       "      <td>1994</td>\n",
       "      <td>9.2</td>\n",
       "      <td>the shawshank redemption</td>\n",
       "      <td>The Shawshank Redemption</td>\n",
       "      <td>Crime</td>\n",
       "    </tr>\n",
       "    <tr>\n",
       "      <th>1</th>\n",
       "      <td>The Godfather</td>\n",
       "      <td>1972</td>\n",
       "      <td>9.2</td>\n",
       "      <td>the godfather</td>\n",
       "      <td>The Godfather</td>\n",
       "      <td>Crime</td>\n",
       "    </tr>\n",
       "    <tr>\n",
       "      <th>2</th>\n",
       "      <td>The Godfather: Part II</td>\n",
       "      <td>1974</td>\n",
       "      <td>9.0</td>\n",
       "      <td>the godfather: part ii</td>\n",
       "      <td>The Godfather: Part II</td>\n",
       "      <td>Crime</td>\n",
       "    </tr>\n",
       "    <tr>\n",
       "      <th>3</th>\n",
       "      <td>The Dark Knight</td>\n",
       "      <td>2008</td>\n",
       "      <td>9.0</td>\n",
       "      <td>the dark knight</td>\n",
       "      <td>The Dark Knight</td>\n",
       "      <td>Action</td>\n",
       "    </tr>\n",
       "    <tr>\n",
       "      <th>4</th>\n",
       "      <td>12 Angry Men</td>\n",
       "      <td>1957</td>\n",
       "      <td>8.9</td>\n",
       "      <td>12 angry men</td>\n",
       "      <td>12 Angry Men</td>\n",
       "      <td>Crime</td>\n",
       "    </tr>\n",
       "  </tbody>\n",
       "</table>\n",
       "</div>"
      ],
      "text/plain": [
       "                     movie_x  year rating                norm_movie  \\\n",
       "0   The Shawshank Redemption  1994    9.2  the shawshank redemption   \n",
       "1              The Godfather  1972    9.2             the godfather   \n",
       "2     The Godfather: Part II  1974    9.0    the godfather: part ii   \n",
       "3            The Dark Knight  2008    9.0           the dark knight   \n",
       "4               12 Angry Men  1957    8.9              12 angry men   \n",
       "\n",
       "                    movie_y   genre  \n",
       "0  The Shawshank Redemption   Crime  \n",
       "1             The Godfather   Crime  \n",
       "2    The Godfather: Part II   Crime  \n",
       "3           The Dark Knight  Action  \n",
       "4              12 Angry Men   Crime  "
      ]
     },
     "execution_count": 29,
     "metadata": {},
     "output_type": "execute_result"
    }
   ],
   "source": [
    "\n",
    "brief_imdb_data = pd.merge(ratings_data, genres_data, how='inner', on=['norm_movie', 'year'])\n",
    "brief_imdb_data.head()"
   ]
  },
  {
   "cell_type": "code",
   "execution_count": 30,
   "id": "9de55d9a",
   "metadata": {},
   "outputs": [
    {
     "data": {
      "text/plain": [
       "(869178, 27)"
      ]
     },
     "execution_count": 30,
     "metadata": {},
     "output_type": "execute_result"
    }
   ],
   "source": [
    "\n",
    "# reading the new IMDB dataset\n",
    "imdb_data = pd.read_csv('./data/imdb_dataset.csv')\n",
    "# let's normlize the title as we did in Part 3 of the tutorial\n",
    "imdb_data['norm_title'] = imdb_data['title'].map(preprocess_title)\n",
    "imdb_data['norm_year'] = imdb_data['year'].map(preprocess_year)\n",
    "imdb_data = imdb_data.drop_duplicates(subset=['norm_title', 'norm_year'], keep='first').copy()\n",
    "imdb_data.shape"
   ]
  },
  {
   "cell_type": "code",
   "execution_count": 31,
   "id": "3db68bc4",
   "metadata": {},
   "outputs": [
    {
     "data": {
      "text/plain": [
       "(4248, 57)"
      ]
     },
     "execution_count": 31,
     "metadata": {},
     "output_type": "execute_result"
    }
   ],
   "source": [
    "\n",
    "data_attempt1 = pd.merge(imdb_data, kaggle_data, how='inner', left_on=['norm_title', 'norm_year'],\n",
    "\t\t\t\t\t\t right_on=['norm_movie_title', 'norm_title_year'])\n",
    "data_attempt1.shape"
   ]
  },
  {
   "cell_type": "code",
   "execution_count": 33,
   "id": "3987d028",
   "metadata": {},
   "outputs": [
    {
     "name": "stderr",
     "output_type": "stream",
     "text": [
      "C:\\Users\\etpha\\miniconda3\\lib\\site-packages\\py_stringsimjoin\\utils\\generic_helper.py:76: FutureWarning: In a future version of pandas all arguments of DataFrame.dropna will be keyword-only.\n",
      "  projected_dataframe = dataframe[proj_attrs].dropna(0,\n",
      "C:\\Users\\etpha\\miniconda3\\lib\\site-packages\\py_stringsimjoin\\utils\\generic_helper.py:76: FutureWarning: In a future version of pandas all arguments of DataFrame.dropna will be keyword-only.\n",
      "  projected_dataframe = dataframe[proj_attrs].dropna(0,\n",
      "0% [##############################] 100% | ETA: 00:00:00\n",
      "Total time elapsed: 00:00:40\n"
     ]
    },
    {
     "data": {
      "text/plain": [
       "(4679, 8)"
      ]
     },
     "execution_count": 33,
     "metadata": {},
     "output_type": "execute_result"
    }
   ],
   "source": [
    "import py_stringsimjoin as ssj\n",
    "import py_stringmatching as sm\n",
    "\n",
    "imdb_data['id'] = range(imdb_data.shape[0])\n",
    "kaggle_data['id'] = range(kaggle_data.shape[0])\n",
    "similar_titles = ssj.edit_distance_join(imdb_data, kaggle_data, 'id', 'id', 'norm_title',\n",
    "\t\t\t\t\t\t\t\t\t\t'norm_movie_title', l_out_attrs=['norm_title', 'norm_year'],\n",
    "\t\t\t\t\t\t\t\t\t\t r_out_attrs=['norm_movie_title', 'norm_title_year'], threshold=1)\n",
    "# selecting the entries that have the same production year\n",
    "data_attempt2 = similar_titles[similar_titles.r_norm_title_year == similar_titles.l_norm_year]\n",
    "data_attempt2.shape"
   ]
  },
  {
   "cell_type": "code",
   "execution_count": 34,
   "id": "0965b70a",
   "metadata": {},
   "outputs": [
    {
     "data": {
      "text/html": [
       "<div>\n",
       "<style scoped>\n",
       "    .dataframe tbody tr th:only-of-type {\n",
       "        vertical-align: middle;\n",
       "    }\n",
       "\n",
       "    .dataframe tbody tr th {\n",
       "        vertical-align: top;\n",
       "    }\n",
       "\n",
       "    .dataframe thead th {\n",
       "        text-align: right;\n",
       "    }\n",
       "</style>\n",
       "<table border=\"1\" class=\"dataframe\">\n",
       "  <thead>\n",
       "    <tr style=\"text-align: right;\">\n",
       "      <th></th>\n",
       "      <th>_id</th>\n",
       "      <th>l_id</th>\n",
       "      <th>r_id</th>\n",
       "      <th>l_norm_title</th>\n",
       "      <th>l_norm_year</th>\n",
       "      <th>r_norm_movie_title</th>\n",
       "      <th>r_norm_title_year</th>\n",
       "      <th>_sim_score</th>\n",
       "    </tr>\n",
       "  </thead>\n",
       "  <tbody>\n",
       "    <tr>\n",
       "      <th>145</th>\n",
       "      <td>145</td>\n",
       "      <td>852736</td>\n",
       "      <td>46</td>\n",
       "      <td>world war v</td>\n",
       "      <td>2013</td>\n",
       "      <td>world war z</td>\n",
       "      <td>2013</td>\n",
       "      <td>1.0</td>\n",
       "    </tr>\n",
       "    <tr>\n",
       "      <th>175</th>\n",
       "      <td>175</td>\n",
       "      <td>281649</td>\n",
       "      <td>56</td>\n",
       "      <td>grave</td>\n",
       "      <td>2012</td>\n",
       "      <td>brave</td>\n",
       "      <td>2012</td>\n",
       "      <td>1.0</td>\n",
       "    </tr>\n",
       "    <tr>\n",
       "      <th>243</th>\n",
       "      <td>243</td>\n",
       "      <td>816188</td>\n",
       "      <td>67</td>\n",
       "      <td>upe</td>\n",
       "      <td>2009</td>\n",
       "      <td>up</td>\n",
       "      <td>2009</td>\n",
       "      <td>1.0</td>\n",
       "    </tr>\n",
       "    <tr>\n",
       "      <th>250</th>\n",
       "      <td>250</td>\n",
       "      <td>817366</td>\n",
       "      <td>67</td>\n",
       "      <td>ut</td>\n",
       "      <td>2009</td>\n",
       "      <td>up</td>\n",
       "      <td>2009</td>\n",
       "      <td>1.0</td>\n",
       "    </tr>\n",
       "    <tr>\n",
       "      <th>265</th>\n",
       "      <td>265</td>\n",
       "      <td>316745</td>\n",
       "      <td>70</td>\n",
       "      <td>hug</td>\n",
       "      <td>2011</td>\n",
       "      <td>hugo</td>\n",
       "      <td>2011</td>\n",
       "      <td>1.0</td>\n",
       "    </tr>\n",
       "  </tbody>\n",
       "</table>\n",
       "</div>"
      ],
      "text/plain": [
       "     _id    l_id  r_id l_norm_title l_norm_year r_norm_movie_title  \\\n",
       "145  145  852736    46  world war v        2013        world war z   \n",
       "175  175  281649    56        grave        2012              brave   \n",
       "243  243  816188    67          upe        2009                 up   \n",
       "250  250  817366    67           ut        2009                 up   \n",
       "265  265  316745    70          hug        2011               hugo   \n",
       "\n",
       "    r_norm_title_year  _sim_score  \n",
       "145              2013         1.0  \n",
       "175              2012         1.0  \n",
       "243              2009         1.0  \n",
       "250              2009         1.0  \n",
       "265              2011         1.0  "
      ]
     },
     "execution_count": 34,
     "metadata": {},
     "output_type": "execute_result"
    }
   ],
   "source": [
    "data_attempt2[data_attempt2.l_norm_title != data_attempt2.r_norm_movie_title].head()"
   ]
  },
  {
   "cell_type": "code",
   "execution_count": 35,
   "id": "aaa957ff",
   "metadata": {},
   "outputs": [],
   "source": [
    "# transforming the \"budget\" column into string and creating a new **mixture** column\n",
    "ssj.utils.converter.dataframe_column_to_str(imdb_data, 'budget', inplace=True)\n",
    "imdb_data['mixture'] = imdb_data['norm_title'] + ' ' + imdb_data['norm_year'] + ' ' + imdb_data['budget']\n",
    "\n",
    "# repeating the same thing for the Kaggle dataset\n",
    "ssj.utils.converter.dataframe_column_to_str(kaggle_data, 'budget', inplace=True)\n",
    "kaggle_data['mixture'] = kaggle_data['norm_movie_title'] + ' ' + kaggle_data['norm_title_year'] + \\\n",
    "\t\t\t\t\t\t ' ' + kaggle_data['budget']"
   ]
  },
  {
   "cell_type": "code",
   "execution_count": 36,
   "id": "a639a577",
   "metadata": {},
   "outputs": [
    {
     "name": "stderr",
     "output_type": "stream",
     "text": [
      "C:\\Users\\etpha\\miniconda3\\lib\\site-packages\\py_stringsimjoin\\utils\\generic_helper.py:76: FutureWarning: In a future version of pandas all arguments of DataFrame.dropna will be keyword-only.\n",
      "  projected_dataframe = dataframe[proj_attrs].dropna(0,\n",
      "C:\\Users\\etpha\\miniconda3\\lib\\site-packages\\py_stringsimjoin\\utils\\generic_helper.py:76: FutureWarning: In a future version of pandas all arguments of DataFrame.dropna will be keyword-only.\n",
      "  projected_dataframe = dataframe[proj_attrs].dropna(0,\n",
      "0% [##############################] 100% | ETA: 00:00:00\n",
      "Total time elapsed: 00:00:08\n"
     ]
    },
    {
     "data": {
      "text/plain": [
       "(18317, 14)"
      ]
     },
     "execution_count": 36,
     "metadata": {},
     "output_type": "execute_result"
    }
   ],
   "source": [
    "C = ssj.overlap_coefficient_join(kaggle_data, imdb_data, 'id', 'id', 'mixture', 'mixture', sm.WhitespaceTokenizer(), \n",
    "\t\t\t\t\t\t\t\t l_out_attrs=['norm_movie_title', 'norm_title_year', 'duration',\n",
    "\t\t\t\t\t\t\t\t\t\t\t  'budget', 'content_rating'],\n",
    "\t\t\t\t\t\t\t\t r_out_attrs=['norm_title', 'norm_year', 'length', 'budget', 'mpaa'],\n",
    "\t\t\t\t\t\t\t\t threshold=0.65)\n",
    "C.shape"
   ]
  },
  {
   "cell_type": "code",
   "execution_count": 38,
   "id": "d0079aa5",
   "metadata": {},
   "outputs": [
    {
     "data": {
      "text/plain": [
       "True"
      ]
     },
     "execution_count": 38,
     "metadata": {},
     "output_type": "execute_result"
    }
   ],
   "source": [
    "import py_entitymatching as em\n",
    "em.set_key(kaggle_data, 'id')   # specifying the key column in the kaggle dataset\n",
    "em.set_key(imdb_data, 'id')     # specifying the key column in the imdb dataset\n",
    "em.set_key(C, '_id')            # specifying the key in the candidate set\n",
    "em.set_ltable(C, kaggle_data)   # specifying the left table \n",
    "em.set_rtable(C, imdb_data)     # specifying the right table\n",
    "em.set_fk_rtable(C, 'r_id')     # specifying the column that matches the key in the right table \n",
    "em.set_fk_ltable(C, 'l_id')     # specifying the column that matches the key in the left table "
   ]
  },
  {
   "cell_type": "code",
   "execution_count": 39,
   "id": "901356ea",
   "metadata": {},
   "outputs": [
    {
     "data": {
      "text/html": [
       "<div>\n",
       "<style scoped>\n",
       "    .dataframe tbody tr th:only-of-type {\n",
       "        vertical-align: middle;\n",
       "    }\n",
       "\n",
       "    .dataframe tbody tr th {\n",
       "        vertical-align: top;\n",
       "    }\n",
       "\n",
       "    .dataframe thead th {\n",
       "        text-align: right;\n",
       "    }\n",
       "</style>\n",
       "<table border=\"1\" class=\"dataframe\">\n",
       "  <thead>\n",
       "    <tr style=\"text-align: right;\">\n",
       "      <th></th>\n",
       "      <th>l_norm_movie_title</th>\n",
       "      <th>r_norm_title</th>\n",
       "      <th>l_norm_title_year</th>\n",
       "      <th>r_norm_year</th>\n",
       "      <th>l_budget</th>\n",
       "      <th>r_budget</th>\n",
       "      <th>l_content_rating</th>\n",
       "      <th>r_mpaa</th>\n",
       "    </tr>\n",
       "  </thead>\n",
       "  <tbody>\n",
       "    <tr>\n",
       "      <th>0</th>\n",
       "      <td>dude  wheres my dog!</td>\n",
       "      <td>#hacked</td>\n",
       "      <td>2014</td>\n",
       "      <td>2014</td>\n",
       "      <td>20000</td>\n",
       "      <td>20000</td>\n",
       "      <td>PG</td>\n",
       "      <td>NaN</td>\n",
       "    </tr>\n",
       "    <tr>\n",
       "      <th>1</th>\n",
       "      <td>road hard</td>\n",
       "      <td>#horror</td>\n",
       "      <td>2015</td>\n",
       "      <td>2015</td>\n",
       "      <td>1500000</td>\n",
       "      <td>1500000</td>\n",
       "      <td>NaN</td>\n",
       "      <td>NaN</td>\n",
       "    </tr>\n",
       "    <tr>\n",
       "      <th>2</th>\n",
       "      <td>me you and five bucks</td>\n",
       "      <td>#horror</td>\n",
       "      <td>2015</td>\n",
       "      <td>2015</td>\n",
       "      <td>1500000</td>\n",
       "      <td>1500000</td>\n",
       "      <td>NaN</td>\n",
       "      <td>NaN</td>\n",
       "    </tr>\n",
       "    <tr>\n",
       "      <th>3</th>\n",
       "      <td>checkmate</td>\n",
       "      <td>#horror</td>\n",
       "      <td>2015</td>\n",
       "      <td>2015</td>\n",
       "      <td>1500000</td>\n",
       "      <td>1500000</td>\n",
       "      <td>NaN</td>\n",
       "      <td>NaN</td>\n",
       "    </tr>\n",
       "    <tr>\n",
       "      <th>4</th>\n",
       "      <td>#horror</td>\n",
       "      <td>#horror</td>\n",
       "      <td>2015</td>\n",
       "      <td>2015</td>\n",
       "      <td>1500000</td>\n",
       "      <td>1500000</td>\n",
       "      <td>Not Rated</td>\n",
       "      <td>NaN</td>\n",
       "    </tr>\n",
       "  </tbody>\n",
       "</table>\n",
       "</div>"
      ],
      "text/plain": [
       "      l_norm_movie_title r_norm_title l_norm_title_year r_norm_year l_budget  \\\n",
       "0   dude  wheres my dog!      #hacked              2014        2014    20000   \n",
       "1              road hard      #horror              2015        2015  1500000   \n",
       "2  me you and five bucks      #horror              2015        2015  1500000   \n",
       "3              checkmate      #horror              2015        2015  1500000   \n",
       "4                #horror      #horror              2015        2015  1500000   \n",
       "\n",
       "  r_budget l_content_rating r_mpaa  \n",
       "0    20000               PG    NaN  \n",
       "1  1500000              NaN    NaN  \n",
       "2  1500000              NaN    NaN  \n",
       "3  1500000              NaN    NaN  \n",
       "4  1500000        Not Rated    NaN  "
      ]
     },
     "execution_count": 39,
     "metadata": {},
     "output_type": "execute_result"
    }
   ],
   "source": [
    "C[['l_norm_movie_title', 'r_norm_title', 'l_norm_title_year', 'r_norm_year',\n",
    "   'l_budget', 'r_budget', 'l_content_rating', 'r_mpaa']].head()"
   ]
  },
  {
   "cell_type": "code",
   "execution_count": 40,
   "id": "50e106f5",
   "metadata": {},
   "outputs": [],
   "source": [
    "\n",
    "# Sampling 500 pairs and writing this sample into a .csv file\n",
    "sampled = C.sample(500, random_state=0)\n",
    "sampled.to_csv('./data/sampled.csv', encoding='utf-8')"
   ]
  },
  {
   "cell_type": "code",
   "execution_count": 44,
   "id": "fdb75d20",
   "metadata": {},
   "outputs": [
    {
     "name": "stderr",
     "output_type": "stream",
     "text": [
      "Metadata file is not present in the given path; proceeding to read the csv file.\n"
     ]
    },
    {
     "data": {
      "text/html": [
       "<div>\n",
       "<style scoped>\n",
       "    .dataframe tbody tr th:only-of-type {\n",
       "        vertical-align: middle;\n",
       "    }\n",
       "\n",
       "    .dataframe tbody tr th {\n",
       "        vertical-align: top;\n",
       "    }\n",
       "\n",
       "    .dataframe thead th {\n",
       "        text-align: right;\n",
       "    }\n",
       "</style>\n",
       "<table border=\"1\" class=\"dataframe\">\n",
       "  <thead>\n",
       "    <tr style=\"text-align: right;\">\n",
       "      <th></th>\n",
       "      <th>Unnamed: 0</th>\n",
       "      <th>_id</th>\n",
       "      <th>l_id</th>\n",
       "      <th>r_id</th>\n",
       "      <th>l_norm_movie_title</th>\n",
       "      <th>l_norm_title_year</th>\n",
       "      <th>l_duration</th>\n",
       "      <th>l_budget</th>\n",
       "      <th>l_content_rating</th>\n",
       "      <th>r_norm_title</th>\n",
       "      <th>r_norm_year</th>\n",
       "      <th>r_length</th>\n",
       "      <th>r_budget</th>\n",
       "      <th>r_mpaa</th>\n",
       "      <th>_sim_score</th>\n",
       "      <th>label</th>\n",
       "    </tr>\n",
       "  </thead>\n",
       "  <tbody>\n",
       "    <tr>\n",
       "      <th>0</th>\n",
       "      <td>4771</td>\n",
       "      <td>4771</td>\n",
       "      <td>2639</td>\n",
       "      <td>235925</td>\n",
       "      <td>eye of the beholder</td>\n",
       "      <td>1999</td>\n",
       "      <td>109.0</td>\n",
       "      <td>15000000</td>\n",
       "      <td>R</td>\n",
       "      <td>eye of the beholder</td>\n",
       "      <td>1999</td>\n",
       "      <td>109.0</td>\n",
       "      <td>35000000</td>\n",
       "      <td>R</td>\n",
       "      <td>0.833333</td>\n",
       "      <td>1</td>\n",
       "    </tr>\n",
       "    <tr>\n",
       "      <th>1</th>\n",
       "      <td>11478</td>\n",
       "      <td>11478</td>\n",
       "      <td>2001</td>\n",
       "      <td>600301</td>\n",
       "      <td>rocky balboa</td>\n",
       "      <td>2006</td>\n",
       "      <td>139.0</td>\n",
       "      <td>24000000</td>\n",
       "      <td>PG</td>\n",
       "      <td>rocky balboa</td>\n",
       "      <td>2006</td>\n",
       "      <td>139.0</td>\n",
       "      <td>24000000</td>\n",
       "      <td>PG</td>\n",
       "      <td>1.000000</td>\n",
       "      <td>1</td>\n",
       "    </tr>\n",
       "    <tr>\n",
       "      <th>2</th>\n",
       "      <td>13630</td>\n",
       "      <td>13630</td>\n",
       "      <td>4160</td>\n",
       "      <td>691766</td>\n",
       "      <td>from russia with love</td>\n",
       "      <td>1963</td>\n",
       "      <td>115.0</td>\n",
       "      <td>2000000</td>\n",
       "      <td>Approved</td>\n",
       "      <td>the aeolians: from russia with love</td>\n",
       "      <td>2012</td>\n",
       "      <td>NaN</td>\n",
       "      <td>20000</td>\n",
       "      <td>NaN</td>\n",
       "      <td>0.666667</td>\n",
       "      <td>0</td>\n",
       "    </tr>\n",
       "    <tr>\n",
       "      <th>3</th>\n",
       "      <td>1972</td>\n",
       "      <td>1972</td>\n",
       "      <td>1248</td>\n",
       "      <td>101029</td>\n",
       "      <td>sex tape</td>\n",
       "      <td>2014</td>\n",
       "      <td>94.0</td>\n",
       "      <td>40000000</td>\n",
       "      <td>R</td>\n",
       "      <td>blended</td>\n",
       "      <td>2014</td>\n",
       "      <td>117.0</td>\n",
       "      <td>40000000</td>\n",
       "      <td>PG-13</td>\n",
       "      <td>0.666667</td>\n",
       "      <td>0</td>\n",
       "    </tr>\n",
       "    <tr>\n",
       "      <th>4</th>\n",
       "      <td>15903</td>\n",
       "      <td>15903</td>\n",
       "      <td>722</td>\n",
       "      <td>758133</td>\n",
       "      <td>the scorch trials</td>\n",
       "      <td>2015</td>\n",
       "      <td>132.0</td>\n",
       "      <td>61000000</td>\n",
       "      <td>PG-13</td>\n",
       "      <td>the scorch trials</td>\n",
       "      <td>2015</td>\n",
       "      <td>132.0</td>\n",
       "      <td>61000000</td>\n",
       "      <td>PG-13</td>\n",
       "      <td>1.000000</td>\n",
       "      <td>1</td>\n",
       "    </tr>\n",
       "  </tbody>\n",
       "</table>\n",
       "</div>"
      ],
      "text/plain": [
       "   Unnamed: 0    _id  l_id    r_id     l_norm_movie_title  l_norm_title_year  \\\n",
       "0        4771   4771  2639  235925    eye of the beholder               1999   \n",
       "1       11478  11478  2001  600301           rocky balboa               2006   \n",
       "2       13630  13630  4160  691766  from russia with love               1963   \n",
       "3        1972   1972  1248  101029               sex tape               2014   \n",
       "4       15903  15903   722  758133      the scorch trials               2015   \n",
       "\n",
       "   l_duration  l_budget l_content_rating                         r_norm_title  \\\n",
       "0       109.0  15000000                R                  eye of the beholder   \n",
       "1       139.0  24000000               PG                         rocky balboa   \n",
       "2       115.0   2000000         Approved  the aeolians: from russia with love   \n",
       "3        94.0  40000000                R                              blended   \n",
       "4       132.0  61000000            PG-13                    the scorch trials   \n",
       "\n",
       "   r_norm_year  r_length  r_budget r_mpaa  _sim_score  label  \n",
       "0         1999     109.0  35000000      R    0.833333      1  \n",
       "1         2006     139.0  24000000     PG    1.000000      1  \n",
       "2         2012       NaN     20000    NaN    0.666667      0  \n",
       "3         2014     117.0  40000000  PG-13    0.666667      0  \n",
       "4         2015     132.0  61000000  PG-13    1.000000      1  "
      ]
     },
     "execution_count": 44,
     "metadata": {},
     "output_type": "execute_result"
    }
   ],
   "source": [
    "# If you would like to avoid labeling the pairs for now, you can download the labled.csv file from\n",
    "# BigGorilla using the following command (if you prefer to do it yourself, command the next line)\n",
    "# response = urllib.request.urlretrieve('https://anaconda.org/BigGorilla/datasets/1/download/labeled.csv',\n",
    "# \t\t\t\t\t\t\t  './data/labeled.csv')\n",
    "labeled = em.read_csv_metadata('data/labeled.csv', ltable=kaggle_data, rtable=imdb_data,\n",
    "\t\t\t\t\t\t\t   fk_ltable='l_id', fk_rtable='r_id', key='_id')\n",
    "labeled.head()"
   ]
  },
  {
   "cell_type": "code",
   "execution_count": 45,
   "id": "d9aba776",
   "metadata": {},
   "outputs": [],
   "source": [
    "split = em.split_train_test(labeled, train_proportion=0.5, random_state=0)\n",
    "train_data = split['train']\n",
    "test_data = split['test']\n",
    "\n",
    "dt = em.DTMatcher(name='DecisionTree', random_state=0)\n",
    "svm = em.SVMMatcher(name='SVM', random_state=0)\n",
    "rf = em.RFMatcher(name='RF', random_state=0)\n",
    "lg = em.LogRegMatcher(name='LogReg', random_state=0)\n",
    "ln = em.LinRegMatcher(name='LinReg')\n",
    "nb = em.NBMatcher(name='NaiveBayes')"
   ]
  },
  {
   "cell_type": "code",
   "execution_count": 46,
   "id": "43279882",
   "metadata": {},
   "outputs": [],
   "source": [
    "attr_corres = em.get_attr_corres(kaggle_data, imdb_data)\n",
    "attr_corres['corres'] = [('norm_movie_title', 'norm_title'), \n",
    "\t\t\t\t\t\t ('norm_title_year', 'norm_year'),\n",
    "\t\t\t\t\t\t('content_rating', 'mpaa'),\n",
    "\t\t\t\t\t\t ('budget', 'budget'),\n",
    "]\n",
    "\n",
    "l_attr_types = em.get_attr_types(kaggle_data)\n",
    "r_attr_types = em.get_attr_types(imdb_data)\n",
    "\n",
    "tok = em.get_tokenizers_for_matching()\n",
    "sim = em.get_sim_funs_for_matching()\n",
    "\n",
    "F = em.get_features(kaggle_data, imdb_data, l_attr_types, r_attr_types, attr_corres, tok, sim)"
   ]
  },
  {
   "cell_type": "code",
   "execution_count": 47,
   "id": "f155fcb8",
   "metadata": {},
   "outputs": [
    {
     "ename": "ValueError",
     "evalue": "'X' and 'missing_values' types are expected to be both numerical. Got X.dtype=float64 and  type(missing_values)=<class 'str'>.",
     "output_type": "error",
     "traceback": [
      "\u001b[1;31m---------------------------------------------------------------------------\u001b[0m",
      "\u001b[1;31mValueError\u001b[0m                                Traceback (most recent call last)",
      "\u001b[1;32m~\\AppData\\Local\\Temp/ipykernel_4548/2900442785.py\u001b[0m in \u001b[0;36m<module>\u001b[1;34m\u001b[0m\n\u001b[0;32m      1\u001b[0m \u001b[0mtrain_features\u001b[0m \u001b[1;33m=\u001b[0m \u001b[0mem\u001b[0m\u001b[1;33m.\u001b[0m\u001b[0mextract_feature_vecs\u001b[0m\u001b[1;33m(\u001b[0m\u001b[0mtrain_data\u001b[0m\u001b[1;33m,\u001b[0m \u001b[0mfeature_table\u001b[0m\u001b[1;33m=\u001b[0m\u001b[0mF\u001b[0m\u001b[1;33m,\u001b[0m \u001b[0mattrs_after\u001b[0m\u001b[1;33m=\u001b[0m\u001b[1;34m'label'\u001b[0m\u001b[1;33m,\u001b[0m \u001b[0mshow_progress\u001b[0m\u001b[1;33m=\u001b[0m\u001b[1;32mFalse\u001b[0m\u001b[1;33m)\u001b[0m\u001b[1;33m\u001b[0m\u001b[1;33m\u001b[0m\u001b[0m\n\u001b[1;32m----> 2\u001b[1;33m \u001b[0mtrain_features\u001b[0m \u001b[1;33m=\u001b[0m \u001b[0mem\u001b[0m\u001b[1;33m.\u001b[0m\u001b[0mimpute_table\u001b[0m\u001b[1;33m(\u001b[0m\u001b[0mtrain_features\u001b[0m\u001b[1;33m,\u001b[0m  \u001b[0mexclude_attrs\u001b[0m\u001b[1;33m=\u001b[0m\u001b[1;33m[\u001b[0m\u001b[1;34m'_id'\u001b[0m\u001b[1;33m,\u001b[0m \u001b[1;34m'l_id'\u001b[0m\u001b[1;33m,\u001b[0m \u001b[1;34m'r_id'\u001b[0m\u001b[1;33m,\u001b[0m \u001b[1;34m'label'\u001b[0m\u001b[1;33m]\u001b[0m\u001b[1;33m,\u001b[0m \u001b[0mstrategy\u001b[0m\u001b[1;33m=\u001b[0m\u001b[1;34m'mean'\u001b[0m\u001b[1;33m)\u001b[0m\u001b[1;33m\u001b[0m\u001b[1;33m\u001b[0m\u001b[0m\n\u001b[0m",
      "\u001b[1;32m~\\miniconda3\\lib\\site-packages\\py_entitymatching\\matcher\\matcherutils.py\u001b[0m in \u001b[0;36mimpute_table\u001b[1;34m(table, exclude_attrs, missing_val, strategy, fill_value, val_all_nans, verbose)\u001b[0m\n\u001b[0;32m    221\u001b[0m \u001b[1;33m\u001b[0m\u001b[0m\n\u001b[0;32m    222\u001b[0m     \u001b[0mimp\u001b[0m \u001b[1;33m=\u001b[0m \u001b[0mSimpleImputer\u001b[0m\u001b[1;33m(\u001b[0m\u001b[0mmissing_values\u001b[0m\u001b[1;33m=\u001b[0m\u001b[0mmissing_val\u001b[0m\u001b[1;33m,\u001b[0m \u001b[0mstrategy\u001b[0m\u001b[1;33m=\u001b[0m\u001b[0mstrategy\u001b[0m\u001b[1;33m,\u001b[0m \u001b[0mfill_value\u001b[0m\u001b[1;33m=\u001b[0m\u001b[0mfill_value\u001b[0m\u001b[1;33m)\u001b[0m\u001b[1;33m\u001b[0m\u001b[1;33m\u001b[0m\u001b[0m\n\u001b[1;32m--> 223\u001b[1;33m     \u001b[0mimp\u001b[0m\u001b[1;33m.\u001b[0m\u001b[0mfit\u001b[0m\u001b[1;33m(\u001b[0m\u001b[0mprojected_table_values\u001b[0m\u001b[1;33m)\u001b[0m\u001b[1;33m\u001b[0m\u001b[1;33m\u001b[0m\u001b[0m\n\u001b[0m\u001b[0;32m    224\u001b[0m     \u001b[0mimp\u001b[0m\u001b[1;33m.\u001b[0m\u001b[0mstatistics_\u001b[0m\u001b[1;33m[\u001b[0m\u001b[0mpd\u001b[0m\u001b[1;33m.\u001b[0m\u001b[0mnp\u001b[0m\u001b[1;33m.\u001b[0m\u001b[0misnan\u001b[0m\u001b[1;33m(\u001b[0m\u001b[0mimp\u001b[0m\u001b[1;33m.\u001b[0m\u001b[0mstatistics_\u001b[0m\u001b[1;33m)\u001b[0m\u001b[1;33m]\u001b[0m \u001b[1;33m=\u001b[0m \u001b[0mval_all_nans\u001b[0m\u001b[1;33m\u001b[0m\u001b[1;33m\u001b[0m\u001b[0m\n\u001b[0;32m    225\u001b[0m     \u001b[0mprojected_table_values\u001b[0m \u001b[1;33m=\u001b[0m \u001b[0mimp\u001b[0m\u001b[1;33m.\u001b[0m\u001b[0mtransform\u001b[0m\u001b[1;33m(\u001b[0m\u001b[0mprojected_table_values\u001b[0m\u001b[1;33m)\u001b[0m\u001b[1;33m\u001b[0m\u001b[1;33m\u001b[0m\u001b[0m\n",
      "\u001b[1;32m~\\miniconda3\\lib\\site-packages\\sklearn\\impute\\_base.py\u001b[0m in \u001b[0;36mfit\u001b[1;34m(self, X, y)\u001b[0m\n\u001b[0;32m    286\u001b[0m         \u001b[0mself\u001b[0m \u001b[1;33m:\u001b[0m \u001b[0mSimpleImputer\u001b[0m\u001b[1;33m\u001b[0m\u001b[1;33m\u001b[0m\u001b[0m\n\u001b[0;32m    287\u001b[0m         \"\"\"\n\u001b[1;32m--> 288\u001b[1;33m         \u001b[0mX\u001b[0m \u001b[1;33m=\u001b[0m \u001b[0mself\u001b[0m\u001b[1;33m.\u001b[0m\u001b[0m_validate_input\u001b[0m\u001b[1;33m(\u001b[0m\u001b[0mX\u001b[0m\u001b[1;33m,\u001b[0m \u001b[0min_fit\u001b[0m\u001b[1;33m=\u001b[0m\u001b[1;32mTrue\u001b[0m\u001b[1;33m)\u001b[0m\u001b[1;33m\u001b[0m\u001b[1;33m\u001b[0m\u001b[0m\n\u001b[0m\u001b[0;32m    289\u001b[0m \u001b[1;33m\u001b[0m\u001b[0m\n\u001b[0;32m    290\u001b[0m         \u001b[1;31m# default fill_value is 0 for numerical input and \"missing_value\"\u001b[0m\u001b[1;33m\u001b[0m\u001b[1;33m\u001b[0m\u001b[1;33m\u001b[0m\u001b[0m\n",
      "\u001b[1;32m~\\miniconda3\\lib\\site-packages\\sklearn\\impute\\_base.py\u001b[0m in \u001b[0;36m_validate_input\u001b[1;34m(self, X, in_fit)\u001b[0m\n\u001b[0;32m    262\u001b[0m                 \u001b[1;32mraise\u001b[0m \u001b[0mve\u001b[0m\u001b[1;33m\u001b[0m\u001b[1;33m\u001b[0m\u001b[0m\n\u001b[0;32m    263\u001b[0m \u001b[1;33m\u001b[0m\u001b[0m\n\u001b[1;32m--> 264\u001b[1;33m         \u001b[0m_check_inputs_dtype\u001b[0m\u001b[1;33m(\u001b[0m\u001b[0mX\u001b[0m\u001b[1;33m,\u001b[0m \u001b[0mself\u001b[0m\u001b[1;33m.\u001b[0m\u001b[0mmissing_values\u001b[0m\u001b[1;33m)\u001b[0m\u001b[1;33m\u001b[0m\u001b[1;33m\u001b[0m\u001b[0m\n\u001b[0m\u001b[0;32m    265\u001b[0m         \u001b[1;32mif\u001b[0m \u001b[0mX\u001b[0m\u001b[1;33m.\u001b[0m\u001b[0mdtype\u001b[0m\u001b[1;33m.\u001b[0m\u001b[0mkind\u001b[0m \u001b[1;32mnot\u001b[0m \u001b[1;32min\u001b[0m \u001b[1;33m(\u001b[0m\u001b[1;34m\"i\"\u001b[0m\u001b[1;33m,\u001b[0m \u001b[1;34m\"u\"\u001b[0m\u001b[1;33m,\u001b[0m \u001b[1;34m\"f\"\u001b[0m\u001b[1;33m,\u001b[0m \u001b[1;34m\"O\"\u001b[0m\u001b[1;33m)\u001b[0m\u001b[1;33m:\u001b[0m\u001b[1;33m\u001b[0m\u001b[1;33m\u001b[0m\u001b[0m\n\u001b[0;32m    266\u001b[0m             raise ValueError(\"SimpleImputer does not support data with dtype \"\n",
      "\u001b[1;32m~\\miniconda3\\lib\\site-packages\\sklearn\\impute\\_base.py\u001b[0m in \u001b[0;36m_check_inputs_dtype\u001b[1;34m(X, missing_values)\u001b[0m\n\u001b[0;32m     24\u001b[0m     if (X.dtype.kind in (\"f\", \"i\", \"u\") and\n\u001b[0;32m     25\u001b[0m             not isinstance(missing_values, numbers.Real)):\n\u001b[1;32m---> 26\u001b[1;33m         raise ValueError(\"'X' and 'missing_values' types are expected to be\"\n\u001b[0m\u001b[0;32m     27\u001b[0m                          \u001b[1;34m\" both numerical. Got X.dtype={} and \"\u001b[0m\u001b[1;33m\u001b[0m\u001b[1;33m\u001b[0m\u001b[0m\n\u001b[0;32m     28\u001b[0m                          \u001b[1;34m\" type(missing_values)={}.\"\u001b[0m\u001b[1;33m\u001b[0m\u001b[1;33m\u001b[0m\u001b[0m\n",
      "\u001b[1;31mValueError\u001b[0m: 'X' and 'missing_values' types are expected to be both numerical. Got X.dtype=float64 and  type(missing_values)=<class 'str'>."
     ]
    }
   ],
   "source": [
    "train_features = em.extract_feature_vecs(train_data, feature_table=F, attrs_after='label', show_progress=False) \n",
    "train_features = em.impute_table(train_features,  exclude_attrs=['_id', 'l_id', 'r_id', 'label'], strategy='mean')"
   ]
  },
  {
   "cell_type": "code",
   "execution_count": 48,
   "id": "5fc4a147",
   "metadata": {},
   "outputs": [
    {
     "ename": "TypeError",
     "evalue": "select_matcher() got an unexpected keyword argument 'metric'",
     "output_type": "error",
     "traceback": [
      "\u001b[1;31m---------------------------------------------------------------------------\u001b[0m",
      "\u001b[1;31mTypeError\u001b[0m                                 Traceback (most recent call last)",
      "\u001b[1;32m~\\AppData\\Local\\Temp/ipykernel_4548/3651457707.py\u001b[0m in \u001b[0;36m<module>\u001b[1;34m\u001b[0m\n\u001b[1;32m----> 1\u001b[1;33m result = em.select_matcher([dt, rf, svm, ln, lg, nb], table=train_features, \n\u001b[0m\u001b[0;32m      2\u001b[0m                                                    \u001b[0mexclude_attrs\u001b[0m\u001b[1;33m=\u001b[0m\u001b[1;33m[\u001b[0m\u001b[1;34m'_id'\u001b[0m\u001b[1;33m,\u001b[0m \u001b[1;34m'l_id'\u001b[0m\u001b[1;33m,\u001b[0m \u001b[1;34m'r_id'\u001b[0m\u001b[1;33m,\u001b[0m \u001b[1;34m'label'\u001b[0m\u001b[1;33m]\u001b[0m\u001b[1;33m,\u001b[0m \u001b[0mk\u001b[0m\u001b[1;33m=\u001b[0m\u001b[1;36m5\u001b[0m\u001b[1;33m,\u001b[0m\u001b[1;33m\u001b[0m\u001b[1;33m\u001b[0m\u001b[0m\n\u001b[0;32m      3\u001b[0m \t\t\t\t\t\t   target_attr='label', metric='f1', random_state=0)\n\u001b[0;32m      4\u001b[0m \u001b[0mresult\u001b[0m\u001b[1;33m[\u001b[0m\u001b[1;34m'cv_stats'\u001b[0m\u001b[1;33m]\u001b[0m\u001b[1;33m\u001b[0m\u001b[1;33m\u001b[0m\u001b[0m\n",
      "\u001b[1;31mTypeError\u001b[0m: select_matcher() got an unexpected keyword argument 'metric'"
     ]
    }
   ],
   "source": [
    "\n",
    "result = em.select_matcher([dt, rf, svm, ln, lg, nb], table=train_features, \n",
    "\t\t\t\t\t\t   exclude_attrs=['_id', 'l_id', 'r_id', 'label'], k=5,\n",
    "\t\t\t\t\t\t   target_attr='label', metric='f1', random_state=0)\n",
    "result['cv_stats']"
   ]
  },
  {
   "cell_type": "code",
   "execution_count": 49,
   "id": "03e6e11c",
   "metadata": {},
   "outputs": [
    {
     "ename": "NameError",
     "evalue": "name 'result' is not defined",
     "output_type": "error",
     "traceback": [
      "\u001b[1;31m---------------------------------------------------------------------------\u001b[0m",
      "\u001b[1;31mNameError\u001b[0m                                 Traceback (most recent call last)",
      "\u001b[1;32m~\\AppData\\Local\\Temp/ipykernel_4548/3863965722.py\u001b[0m in \u001b[0;36m<module>\u001b[1;34m\u001b[0m\n\u001b[1;32m----> 1\u001b[1;33m \u001b[0mbest_model\u001b[0m \u001b[1;33m=\u001b[0m \u001b[0mresult\u001b[0m\u001b[1;33m[\u001b[0m\u001b[1;34m'selected_matcher'\u001b[0m\u001b[1;33m]\u001b[0m\u001b[1;33m\u001b[0m\u001b[1;33m\u001b[0m\u001b[0m\n\u001b[0m\u001b[0;32m      2\u001b[0m \u001b[0mbest_model\u001b[0m\u001b[1;33m.\u001b[0m\u001b[0mfit\u001b[0m\u001b[1;33m(\u001b[0m\u001b[0mtable\u001b[0m\u001b[1;33m=\u001b[0m\u001b[0mtrain_features\u001b[0m\u001b[1;33m,\u001b[0m \u001b[0mexclude_attrs\u001b[0m\u001b[1;33m=\u001b[0m\u001b[1;33m[\u001b[0m\u001b[1;34m'_id'\u001b[0m\u001b[1;33m,\u001b[0m \u001b[1;34m'l_id'\u001b[0m\u001b[1;33m,\u001b[0m \u001b[1;34m'r_id'\u001b[0m\u001b[1;33m,\u001b[0m \u001b[1;34m'label'\u001b[0m\u001b[1;33m]\u001b[0m\u001b[1;33m,\u001b[0m \u001b[0mtarget_attr\u001b[0m\u001b[1;33m=\u001b[0m\u001b[1;34m'label'\u001b[0m\u001b[1;33m)\u001b[0m\u001b[1;33m\u001b[0m\u001b[1;33m\u001b[0m\u001b[0m\n\u001b[0;32m      3\u001b[0m \u001b[1;33m\u001b[0m\u001b[0m\n\u001b[0;32m      4\u001b[0m \u001b[0mtest_features\u001b[0m \u001b[1;33m=\u001b[0m \u001b[0mem\u001b[0m\u001b[1;33m.\u001b[0m\u001b[0mextract_feature_vecs\u001b[0m\u001b[1;33m(\u001b[0m\u001b[0mtest_data\u001b[0m\u001b[1;33m,\u001b[0m \u001b[0mfeature_table\u001b[0m\u001b[1;33m=\u001b[0m\u001b[0mF\u001b[0m\u001b[1;33m,\u001b[0m \u001b[0mattrs_after\u001b[0m\u001b[1;33m=\u001b[0m\u001b[1;34m'label'\u001b[0m\u001b[1;33m,\u001b[0m \u001b[0mshow_progress\u001b[0m\u001b[1;33m=\u001b[0m\u001b[1;32mFalse\u001b[0m\u001b[1;33m)\u001b[0m\u001b[1;33m\u001b[0m\u001b[1;33m\u001b[0m\u001b[0m\n\u001b[0;32m      5\u001b[0m \u001b[0mtest_features\u001b[0m \u001b[1;33m=\u001b[0m \u001b[0mem\u001b[0m\u001b[1;33m.\u001b[0m\u001b[0mimpute_table\u001b[0m\u001b[1;33m(\u001b[0m\u001b[0mtest_features\u001b[0m\u001b[1;33m,\u001b[0m \u001b[0mexclude_attrs\u001b[0m\u001b[1;33m=\u001b[0m\u001b[1;33m[\u001b[0m\u001b[1;34m'_id'\u001b[0m\u001b[1;33m,\u001b[0m \u001b[1;34m'l_id'\u001b[0m\u001b[1;33m,\u001b[0m \u001b[1;34m'r_id'\u001b[0m\u001b[1;33m,\u001b[0m \u001b[1;34m'label'\u001b[0m\u001b[1;33m]\u001b[0m\u001b[1;33m,\u001b[0m \u001b[0mstrategy\u001b[0m\u001b[1;33m=\u001b[0m\u001b[1;34m'mean'\u001b[0m\u001b[1;33m)\u001b[0m\u001b[1;33m\u001b[0m\u001b[1;33m\u001b[0m\u001b[0m\n",
      "\u001b[1;31mNameError\u001b[0m: name 'result' is not defined"
     ]
    }
   ],
   "source": [
    "best_model = result['selected_matcher']\n",
    "best_model.fit(table=train_features, exclude_attrs=['_id', 'l_id', 'r_id', 'label'], target_attr='label')\n",
    "\n",
    "test_features = em.extract_feature_vecs(test_data, feature_table=F, attrs_after='label', show_progress=False)\n",
    "test_features = em.impute_table(test_features, exclude_attrs=['_id', 'l_id', 'r_id', 'label'], strategy='mean')\n",
    "\n",
    "# Predict on the test data\n",
    "predictions = best_model.predict(table=test_features, exclude_attrs=['_id', 'l_id', 'r_id', 'label'], \n",
    "\t\t\t\t\t\t\t\t append=True, target_attr='predicted', inplace=False)\n",
    "\n",
    "# Evaluate the predictions\n",
    "eval_result = em.eval_matches(predictions, 'label', 'predicted')\n",
    "em.print_eval_summary(eval_result)"
   ]
  },
  {
   "cell_type": "code",
   "execution_count": 50,
   "id": "636eaa82",
   "metadata": {},
   "outputs": [
    {
     "name": "stderr",
     "output_type": "stream",
     "text": [
      "0% [##############################] 100% | ETA: 00:00:00\n",
      "Total time elapsed: 00:00:13\n"
     ]
    },
    {
     "ename": "ValueError",
     "evalue": "'X' and 'missing_values' types are expected to be both numerical. Got X.dtype=float64 and  type(missing_values)=<class 'str'>.",
     "output_type": "error",
     "traceback": [
      "\u001b[1;31m---------------------------------------------------------------------------\u001b[0m",
      "\u001b[1;31mValueError\u001b[0m                                Traceback (most recent call last)",
      "\u001b[1;32m~\\AppData\\Local\\Temp/ipykernel_4548/752160213.py\u001b[0m in \u001b[0;36m<module>\u001b[1;34m\u001b[0m\n\u001b[0;32m      1\u001b[0m \u001b[0mcandset_features\u001b[0m \u001b[1;33m=\u001b[0m \u001b[0mem\u001b[0m\u001b[1;33m.\u001b[0m\u001b[0mextract_feature_vecs\u001b[0m\u001b[1;33m(\u001b[0m\u001b[0mC\u001b[0m\u001b[1;33m,\u001b[0m \u001b[0mfeature_table\u001b[0m\u001b[1;33m=\u001b[0m\u001b[0mF\u001b[0m\u001b[1;33m,\u001b[0m \u001b[0mshow_progress\u001b[0m\u001b[1;33m=\u001b[0m\u001b[1;32mTrue\u001b[0m\u001b[1;33m)\u001b[0m\u001b[1;33m\u001b[0m\u001b[1;33m\u001b[0m\u001b[0m\n\u001b[1;32m----> 2\u001b[1;33m \u001b[0mcandset_features\u001b[0m \u001b[1;33m=\u001b[0m \u001b[0mem\u001b[0m\u001b[1;33m.\u001b[0m\u001b[0mimpute_table\u001b[0m\u001b[1;33m(\u001b[0m\u001b[0mcandset_features\u001b[0m\u001b[1;33m,\u001b[0m \u001b[0mexclude_attrs\u001b[0m\u001b[1;33m=\u001b[0m\u001b[1;33m[\u001b[0m\u001b[1;34m'_id'\u001b[0m\u001b[1;33m,\u001b[0m \u001b[1;34m'l_id'\u001b[0m\u001b[1;33m,\u001b[0m \u001b[1;34m'r_id'\u001b[0m\u001b[1;33m]\u001b[0m\u001b[1;33m,\u001b[0m \u001b[0mstrategy\u001b[0m\u001b[1;33m=\u001b[0m\u001b[1;34m'mean'\u001b[0m\u001b[1;33m)\u001b[0m\u001b[1;33m\u001b[0m\u001b[1;33m\u001b[0m\u001b[0m\n\u001b[0m\u001b[0;32m      3\u001b[0m predictions = best_model.predict(table=candset_features, exclude_attrs=['_id', 'l_id', 'r_id'],\n\u001b[0;32m      4\u001b[0m \t\t\t\t\t\t\t\t append=True, target_attr='predicted', inplace=False)\n\u001b[0;32m      5\u001b[0m \u001b[0mmatches\u001b[0m \u001b[1;33m=\u001b[0m \u001b[0mpredictions\u001b[0m\u001b[1;33m[\u001b[0m\u001b[0mpredictions\u001b[0m\u001b[1;33m.\u001b[0m\u001b[0mpredicted\u001b[0m \u001b[1;33m==\u001b[0m \u001b[1;36m1\u001b[0m\u001b[1;33m]\u001b[0m\u001b[1;33m\u001b[0m\u001b[1;33m\u001b[0m\u001b[0m\n",
      "\u001b[1;32m~\\miniconda3\\lib\\site-packages\\py_entitymatching\\matcher\\matcherutils.py\u001b[0m in \u001b[0;36mimpute_table\u001b[1;34m(table, exclude_attrs, missing_val, strategy, fill_value, val_all_nans, verbose)\u001b[0m\n\u001b[0;32m    221\u001b[0m \u001b[1;33m\u001b[0m\u001b[0m\n\u001b[0;32m    222\u001b[0m     \u001b[0mimp\u001b[0m \u001b[1;33m=\u001b[0m \u001b[0mSimpleImputer\u001b[0m\u001b[1;33m(\u001b[0m\u001b[0mmissing_values\u001b[0m\u001b[1;33m=\u001b[0m\u001b[0mmissing_val\u001b[0m\u001b[1;33m,\u001b[0m \u001b[0mstrategy\u001b[0m\u001b[1;33m=\u001b[0m\u001b[0mstrategy\u001b[0m\u001b[1;33m,\u001b[0m \u001b[0mfill_value\u001b[0m\u001b[1;33m=\u001b[0m\u001b[0mfill_value\u001b[0m\u001b[1;33m)\u001b[0m\u001b[1;33m\u001b[0m\u001b[1;33m\u001b[0m\u001b[0m\n\u001b[1;32m--> 223\u001b[1;33m     \u001b[0mimp\u001b[0m\u001b[1;33m.\u001b[0m\u001b[0mfit\u001b[0m\u001b[1;33m(\u001b[0m\u001b[0mprojected_table_values\u001b[0m\u001b[1;33m)\u001b[0m\u001b[1;33m\u001b[0m\u001b[1;33m\u001b[0m\u001b[0m\n\u001b[0m\u001b[0;32m    224\u001b[0m     \u001b[0mimp\u001b[0m\u001b[1;33m.\u001b[0m\u001b[0mstatistics_\u001b[0m\u001b[1;33m[\u001b[0m\u001b[0mpd\u001b[0m\u001b[1;33m.\u001b[0m\u001b[0mnp\u001b[0m\u001b[1;33m.\u001b[0m\u001b[0misnan\u001b[0m\u001b[1;33m(\u001b[0m\u001b[0mimp\u001b[0m\u001b[1;33m.\u001b[0m\u001b[0mstatistics_\u001b[0m\u001b[1;33m)\u001b[0m\u001b[1;33m]\u001b[0m \u001b[1;33m=\u001b[0m \u001b[0mval_all_nans\u001b[0m\u001b[1;33m\u001b[0m\u001b[1;33m\u001b[0m\u001b[0m\n\u001b[0;32m    225\u001b[0m     \u001b[0mprojected_table_values\u001b[0m \u001b[1;33m=\u001b[0m \u001b[0mimp\u001b[0m\u001b[1;33m.\u001b[0m\u001b[0mtransform\u001b[0m\u001b[1;33m(\u001b[0m\u001b[0mprojected_table_values\u001b[0m\u001b[1;33m)\u001b[0m\u001b[1;33m\u001b[0m\u001b[1;33m\u001b[0m\u001b[0m\n",
      "\u001b[1;32m~\\miniconda3\\lib\\site-packages\\sklearn\\impute\\_base.py\u001b[0m in \u001b[0;36mfit\u001b[1;34m(self, X, y)\u001b[0m\n\u001b[0;32m    286\u001b[0m         \u001b[0mself\u001b[0m \u001b[1;33m:\u001b[0m \u001b[0mSimpleImputer\u001b[0m\u001b[1;33m\u001b[0m\u001b[1;33m\u001b[0m\u001b[0m\n\u001b[0;32m    287\u001b[0m         \"\"\"\n\u001b[1;32m--> 288\u001b[1;33m         \u001b[0mX\u001b[0m \u001b[1;33m=\u001b[0m \u001b[0mself\u001b[0m\u001b[1;33m.\u001b[0m\u001b[0m_validate_input\u001b[0m\u001b[1;33m(\u001b[0m\u001b[0mX\u001b[0m\u001b[1;33m,\u001b[0m \u001b[0min_fit\u001b[0m\u001b[1;33m=\u001b[0m\u001b[1;32mTrue\u001b[0m\u001b[1;33m)\u001b[0m\u001b[1;33m\u001b[0m\u001b[1;33m\u001b[0m\u001b[0m\n\u001b[0m\u001b[0;32m    289\u001b[0m \u001b[1;33m\u001b[0m\u001b[0m\n\u001b[0;32m    290\u001b[0m         \u001b[1;31m# default fill_value is 0 for numerical input and \"missing_value\"\u001b[0m\u001b[1;33m\u001b[0m\u001b[1;33m\u001b[0m\u001b[1;33m\u001b[0m\u001b[0m\n",
      "\u001b[1;32m~\\miniconda3\\lib\\site-packages\\sklearn\\impute\\_base.py\u001b[0m in \u001b[0;36m_validate_input\u001b[1;34m(self, X, in_fit)\u001b[0m\n\u001b[0;32m    262\u001b[0m                 \u001b[1;32mraise\u001b[0m \u001b[0mve\u001b[0m\u001b[1;33m\u001b[0m\u001b[1;33m\u001b[0m\u001b[0m\n\u001b[0;32m    263\u001b[0m \u001b[1;33m\u001b[0m\u001b[0m\n\u001b[1;32m--> 264\u001b[1;33m         \u001b[0m_check_inputs_dtype\u001b[0m\u001b[1;33m(\u001b[0m\u001b[0mX\u001b[0m\u001b[1;33m,\u001b[0m \u001b[0mself\u001b[0m\u001b[1;33m.\u001b[0m\u001b[0mmissing_values\u001b[0m\u001b[1;33m)\u001b[0m\u001b[1;33m\u001b[0m\u001b[1;33m\u001b[0m\u001b[0m\n\u001b[0m\u001b[0;32m    265\u001b[0m         \u001b[1;32mif\u001b[0m \u001b[0mX\u001b[0m\u001b[1;33m.\u001b[0m\u001b[0mdtype\u001b[0m\u001b[1;33m.\u001b[0m\u001b[0mkind\u001b[0m \u001b[1;32mnot\u001b[0m \u001b[1;32min\u001b[0m \u001b[1;33m(\u001b[0m\u001b[1;34m\"i\"\u001b[0m\u001b[1;33m,\u001b[0m \u001b[1;34m\"u\"\u001b[0m\u001b[1;33m,\u001b[0m \u001b[1;34m\"f\"\u001b[0m\u001b[1;33m,\u001b[0m \u001b[1;34m\"O\"\u001b[0m\u001b[1;33m)\u001b[0m\u001b[1;33m:\u001b[0m\u001b[1;33m\u001b[0m\u001b[1;33m\u001b[0m\u001b[0m\n\u001b[0;32m    266\u001b[0m             raise ValueError(\"SimpleImputer does not support data with dtype \"\n",
      "\u001b[1;32m~\\miniconda3\\lib\\site-packages\\sklearn\\impute\\_base.py\u001b[0m in \u001b[0;36m_check_inputs_dtype\u001b[1;34m(X, missing_values)\u001b[0m\n\u001b[0;32m     24\u001b[0m     if (X.dtype.kind in (\"f\", \"i\", \"u\") and\n\u001b[0;32m     25\u001b[0m             not isinstance(missing_values, numbers.Real)):\n\u001b[1;32m---> 26\u001b[1;33m         raise ValueError(\"'X' and 'missing_values' types are expected to be\"\n\u001b[0m\u001b[0;32m     27\u001b[0m                          \u001b[1;34m\" both numerical. Got X.dtype={} and \"\u001b[0m\u001b[1;33m\u001b[0m\u001b[1;33m\u001b[0m\u001b[0m\n\u001b[0;32m     28\u001b[0m                          \u001b[1;34m\" type(missing_values)={}.\"\u001b[0m\u001b[1;33m\u001b[0m\u001b[1;33m\u001b[0m\u001b[0m\n",
      "\u001b[1;31mValueError\u001b[0m: 'X' and 'missing_values' types are expected to be both numerical. Got X.dtype=float64 and  type(missing_values)=<class 'str'>."
     ]
    }
   ],
   "source": [
    "candset_features = em.extract_feature_vecs(C, feature_table=F, show_progress=True)\n",
    "candset_features = em.impute_table(candset_features, exclude_attrs=['_id', 'l_id', 'r_id'], strategy='mean')\n",
    "predictions = best_model.predict(table=candset_features, exclude_attrs=['_id', 'l_id', 'r_id'],\n",
    "\t\t\t\t\t\t\t\t append=True, target_attr='predicted', inplace=False)\n",
    "matches = predictions[predictions.predicted == 1]"
   ]
  },
  {
   "cell_type": "code",
   "execution_count": 51,
   "id": "14bc083e",
   "metadata": {},
   "outputs": [
    {
     "ename": "NameError",
     "evalue": "name 'matches' is not defined",
     "output_type": "error",
     "traceback": [
      "\u001b[1;31m---------------------------------------------------------------------------\u001b[0m",
      "\u001b[1;31mNameError\u001b[0m                                 Traceback (most recent call last)",
      "\u001b[1;32m~\\AppData\\Local\\Temp/ipykernel_4548/2248437283.py\u001b[0m in \u001b[0;36m<module>\u001b[1;34m\u001b[0m\n\u001b[0;32m      1\u001b[0m \u001b[1;32mfrom\u001b[0m \u001b[0mpy_entitymatching\u001b[0m\u001b[1;33m.\u001b[0m\u001b[0mcatalog\u001b[0m \u001b[1;32mimport\u001b[0m \u001b[0mcatalog_manager\u001b[0m \u001b[1;32mas\u001b[0m \u001b[0mcm\u001b[0m\u001b[1;33m\u001b[0m\u001b[1;33m\u001b[0m\u001b[0m\n\u001b[1;32m----> 2\u001b[1;33m \u001b[0mmatches\u001b[0m \u001b[1;33m=\u001b[0m \u001b[0mmatches\u001b[0m\u001b[1;33m[\u001b[0m\u001b[1;33m[\u001b[0m\u001b[1;34m'_id'\u001b[0m\u001b[1;33m,\u001b[0m \u001b[1;34m'l_id'\u001b[0m\u001b[1;33m,\u001b[0m \u001b[1;34m'r_id'\u001b[0m\u001b[1;33m,\u001b[0m \u001b[1;34m'predicted'\u001b[0m\u001b[1;33m]\u001b[0m\u001b[1;33m]\u001b[0m\u001b[1;33m\u001b[0m\u001b[1;33m\u001b[0m\u001b[0m\n\u001b[0m\u001b[0;32m      3\u001b[0m \u001b[0mmatches\u001b[0m\u001b[1;33m.\u001b[0m\u001b[0mreset_index\u001b[0m\u001b[1;33m(\u001b[0m\u001b[0mdrop\u001b[0m\u001b[1;33m=\u001b[0m\u001b[1;32mTrue\u001b[0m\u001b[1;33m,\u001b[0m \u001b[0minplace\u001b[0m\u001b[1;33m=\u001b[0m\u001b[1;32mTrue\u001b[0m\u001b[1;33m)\u001b[0m\u001b[1;33m\u001b[0m\u001b[1;33m\u001b[0m\u001b[0m\n\u001b[0;32m      4\u001b[0m \u001b[0mcm\u001b[0m\u001b[1;33m.\u001b[0m\u001b[0mset_candset_properties\u001b[0m\u001b[1;33m(\u001b[0m\u001b[0mmatches\u001b[0m\u001b[1;33m,\u001b[0m \u001b[1;34m'_id'\u001b[0m\u001b[1;33m,\u001b[0m \u001b[1;34m'l_id'\u001b[0m\u001b[1;33m,\u001b[0m \u001b[1;34m'r_id'\u001b[0m\u001b[1;33m,\u001b[0m \u001b[0mkaggle_data\u001b[0m\u001b[1;33m,\u001b[0m \u001b[0mimdb_data\u001b[0m\u001b[1;33m)\u001b[0m\u001b[1;33m\u001b[0m\u001b[1;33m\u001b[0m\u001b[0m\n\u001b[0;32m      5\u001b[0m matches = em.add_output_attributes(matches, l_output_attrs=['norm_movie_title', 'norm_title_year', 'budget', 'content_rating'],\n",
      "\u001b[1;31mNameError\u001b[0m: name 'matches' is not defined"
     ]
    }
   ],
   "source": [
    "from py_entitymatching.catalog import catalog_manager as cm\n",
    "matches = matches[['_id', 'l_id', 'r_id', 'predicted']]\n",
    "matches.reset_index(drop=True, inplace=True)\n",
    "cm.set_candset_properties(matches, '_id', 'l_id', 'r_id', kaggle_data, imdb_data)\n",
    "matches = em.add_output_attributes(matches, l_output_attrs=['norm_movie_title', 'norm_title_year', 'budget', 'content_rating'],\n",
    "\t\t\t\t\t\t\t\t   r_output_attrs=['norm_title', 'norm_year', 'budget', 'mpaa'],\n",
    "\t\t\t\t\t\t\t\t   l_output_prefix='l_', r_output_prefix='r_',\n",
    "\t\t\t\t\t\t\t\t   delete_from_catalog=False)\n",
    "matches.drop('predicted', axis=1, inplace=True)\n",
    "matches.head()"
   ]
  },
  {
   "cell_type": "code",
   "execution_count": null,
   "id": "eb15a7a5",
   "metadata": {},
   "outputs": [],
   "source": [
    "#======================================================================\n"
   ]
  }
 ],
 "metadata": {
  "kernelspec": {
   "display_name": "Python 3 (ipykernel)",
   "language": "python",
   "name": "python3"
  },
  "language_info": {
   "codemirror_mode": {
    "name": "ipython",
    "version": 3
   },
   "file_extension": ".py",
   "mimetype": "text/x-python",
   "name": "python",
   "nbconvert_exporter": "python",
   "pygments_lexer": "ipython3",
   "version": "3.9.5"
  }
 },
 "nbformat": 4,
 "nbformat_minor": 5
}
